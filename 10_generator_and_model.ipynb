{
 "cells": [
  {
   "cell_type": "code",
   "execution_count": 18,
   "source": [
    "import os, glob \n",
    "import pandas as pd\n",
    "import matplotlib.pyplot as plt\n",
    "import numpy as np\n",
    "import tensorflow as tf\n",
    "from tensorflow import keras\n",
    " \n",
    "fit_path = \"/home/riku/projects/athlet_hr_predict/fit_file_csv\""
   ],
   "outputs": [],
   "metadata": {}
  },
  {
   "cell_type": "code",
   "execution_count": 27,
   "source": [
    "os.chdir(fit_path)\n",
    "\n",
    "\n",
    "n_X = 60 # number of timesteps for training\n",
    "n_y = 30 # number of timesteps to predict\n",
    "step = 1\n",
    "batch_size = 10\n",
    "epochs = 10\n",
    "learning_rate = 0.001\n",
    "sequence_length = int(n_X/step)\n",
    "n_fit_files_test_set = 1 # number of files for testing dataset\n",
    "\n",
    "train_files = glob.glob(\"*.csv\")[0:-n_fit_files_test_set]\n",
    "valid_files = glob.glob(\"*.csv\")[-n_fit_files_test_set:]\n",
    "\n",
    "# validation dataset - train each file at the time\n",
    "\n",
    "for file in valid_files:\n",
    "    df = pd.read_csv(fit_path+'/'+file, index_col='timestamp')[[\"heart_rate\", \"cadence\",\"enhanced_speed\",\"enhanced_altitude\"]]\n",
    "    \n",
    "    start = n_X + n_y\n",
    "    end = n_X + len(df.index)\n",
    "    \n",
    "    x = df[[\"heart_rate\", \"cadence\",\"enhanced_speed\",\"enhanced_altitude\"]].values\n",
    "    y = df.iloc[n_X:end][[\"heart_rate\"]]\n",
    "    \n",
    "    dataset_test = keras.preprocessing.timeseries_dataset_from_array(\n",
    "        x,\n",
    "        y,\n",
    "        sequence_length=sequence_length,\n",
    "        sampling_rate=step,\n",
    "        batch_size=batch_size,\n",
    "    )\n",
    "\n",
    "for batch in dataset_test.take(1):\n",
    "    inputs, targets = batch\n",
    "\n",
    "print(\"Input shape:\", inputs.numpy().shape)\n",
    "print(\"Target shape:\", targets.numpy().shape)\n",
    "\n",
    "# training dataset - train each file at the time\n",
    "\n",
    "for file in train_files:\n",
    "    df = pd.read_csv(fit_path+'/'+file, index_col='timestamp')[[\"heart_rate\", \"cadence\",\"enhanced_speed\",\"enhanced_altitude\"]]\n",
    "    \n",
    "    start = n_X + n_y\n",
    "    end = n_X + len(df.index)\n",
    "    \n",
    "    x = df[[\"heart_rate\", \"cadence\",\"enhanced_speed\",\"enhanced_altitude\"]].values\n",
    "    y = df.iloc[n_X:end][[\"heart_rate\"]]\n",
    "    \n",
    "    dataset_train = keras.preprocessing.timeseries_dataset_from_array(\n",
    "        x,\n",
    "        y,\n",
    "        sequence_length=sequence_length,\n",
    "        sampling_rate=step,\n",
    "        batch_size=batch_size,\n",
    "    )\n",
    "\n",
    "\n",
    "\n",
    "\n"
   ],
   "outputs": [
    {
     "output_type": "stream",
     "name": "stderr",
     "text": [
      "2021-09-14 08:48:56.594124: I tensorflow/compiler/mlir/mlir_graph_optimization_pass.cc:185] None of the MLIR Optimization Passes are enabled (registered 2)\n"
     ]
    },
    {
     "output_type": "stream",
     "name": "stdout",
     "text": [
      "Input shape: (10, 60, 4)\n",
      "Target shape: (10, 1)\n"
     ]
    }
   ],
   "metadata": {}
  },
  {
   "cell_type": "code",
   "execution_count": 26,
   "source": [
    "dataset_train.batch"
   ],
   "outputs": [
    {
     "output_type": "execute_result",
     "data": {
      "text/plain": [
       "<bound method DatasetV2.batch of <BatchDataset shapes: ((None, None, 4), (None, 1)), types: (tf.float64, tf.int64)>>"
      ]
     },
     "metadata": {},
     "execution_count": 26
    }
   ],
   "metadata": {}
  },
  {
   "cell_type": "code",
   "execution_count": null,
   "source": [
    " \n",
    "def last_time_step_mse(Y_true, Y_pred):\n",
    "  return keras.metrics.mean_squared_error(Y_true[:, -1], Y_pred[:, -1])\n",
    "\n",
    "model = keras.Sequential([\n",
    "    keras.layers.LSTM(240, return_sequences=True, input_shape=(60,4)),\n",
    "    keras.layers.LSTM(60, return_sequences=True),\n",
    "    keras.layers.TimeDistributed(keras.layers.Dense(30))   \n",
    "])\n",
    "\n",
    "optimizer = keras.optimizers.Adam(learning_rate=0.01)\n",
    "\n",
    "model.compile(loss=\"mse\", optimizer=optimizer, metrics=[last_time_step_mse])"
   ],
   "outputs": [],
   "metadata": {}
  }
 ],
 "metadata": {
  "orig_nbformat": 4,
  "language_info": {
   "name": "python",
   "version": "3.9.6",
   "mimetype": "text/x-python",
   "codemirror_mode": {
    "name": "ipython",
    "version": 3
   },
   "pygments_lexer": "ipython3",
   "nbconvert_exporter": "python",
   "file_extension": ".py"
  },
  "kernelspec": {
   "name": "python3",
   "display_name": "Python 3.9.6 64-bit ('hrpredict': conda)"
  },
  "interpreter": {
   "hash": "b77292dc63b48aca88a1593f58a471620914a6081d352eacb6540144f7e5fab5"
  }
 },
 "nbformat": 4,
 "nbformat_minor": 2
}