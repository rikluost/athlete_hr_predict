{
 "cells": [
  {
   "cell_type": "code",
   "execution_count": null,
   "source": [
    "import os, glob \n",
    "import pandas as pd\n",
    "import matplotlib.pyplot as plt\n",
    "import numpy as np\n",
    "import tensorflow as tf\n",
    "from tensorflow import keras\n",
    " \n",
    "fit_path = \"/home/riku/projects/athlet_hr_predict/fit_file_csv\"\n",
    "os.chdir(fit_path)"
   ],
   "outputs": [],
   "metadata": {}
  },
  {
   "cell_type": "code",
   "execution_count": null,
   "source": [
    "\n",
    "n_X = 60 # number of timesteps for training\n",
    "n_y = 30 # number of timesteps to predict\n",
    "step = 1\n",
    "batch_size = 10\n",
    "epochs = 50\n",
    "learning_rate = 0.001\n",
    "sequence_length = int(n_X/step)\n",
    "n_fit_files_test_set = 1 # number of files for testing dataset\n",
    "\n",
    "train_files = glob.glob(\"*.csv\")[0:-n_fit_files_test_set]\n",
    "valid_files = glob.glob(\"*.csv\")[-n_fit_files_test_set:]"
   ],
   "outputs": [],
   "metadata": {}
  },
  {
   "cell_type": "code",
   "execution_count": null,
   "source": [
    "def normalize(data):\n",
    "    data_mean = data.mean(axis=0)\n",
    "    data_std = data.std(axis=0)\n",
    "    #return (data - data_mean) / data_std, data_mean, data_std\n",
    "    return data_mean, data_std\n",
    "\n",
    "li = []\n",
    "\n",
    "for file in train_files:\n",
    "    df = pd.read_csv(fit_path+'/'+file, index_col='timestamp')[[\"heart_rate\", \"cadence\",\"enhanced_speed\",\"enhanced_altitude\"]]\n",
    "    li.append(df)\n",
    "\n",
    "df = pd.concat(li, axis=0, ignore_index=True)\n",
    "\n",
    "df_mean, df_std = normalize(df)"
   ],
   "outputs": [],
   "metadata": {}
  },
  {
   "cell_type": "code",
   "execution_count": null,
   "source": [
    "# validation dataset - train each file at the time\n",
    "\n",
    "for file in train_files:\n",
    "    df = pd.read_csv(fit_path+'/'+file, index_col='timestamp')[[\"heart_rate\", \"cadence\",\"enhanced_speed\",\"enhanced_altitude\"]]\n",
    "    df = (df - df_mean) / df_std\n",
    "    start = n_X + n_y\n",
    "    end = n_X + len(df.index)\n",
    "    \n",
    "    x = df[[\"heart_rate\", \"cadence\",\"enhanced_speed\",\"enhanced_altitude\"]].values\n",
    "    y = df.iloc[n_X:end][[\"heart_rate\"]]\n",
    "    \n",
    "    dataset_val = keras.preprocessing.timeseries_dataset_from_array(\n",
    "        x,\n",
    "        y,\n",
    "        sequence_length=sequence_length,\n",
    "        sampling_rate=step,\n",
    "        batch_size=batch_size,\n",
    "    )"
   ],
   "outputs": [],
   "metadata": {}
  },
  {
   "cell_type": "code",
   "execution_count": null,
   "source": [
    "for batch in dataset_val.take(1):\n",
    "    inputs, targets = batch"
   ],
   "outputs": [],
   "metadata": {}
  },
  {
   "cell_type": "code",
   "execution_count": null,
   "source": [
    "\n",
    "\n",
    "# the model\n",
    "inputs = keras.layers.Input(shape=(inputs.shape[1], inputs.shape[2]))\n",
    "lstm_out = keras.layers.LSTM(4)(inputs)\n",
    "#lstm_out = keras.layers.LSTM(4)(lstm_out)\n",
    "outputs = keras.layers.Dense(1)(lstm_out)\n",
    "\n",
    "model = keras.Model(inputs=inputs, outputs=outputs)\n",
    "model.compile(optimizer=keras.optimizers.Adam(learning_rate=learning_rate), loss=\"mse\")\n",
    "model.summary()\n",
    "\n",
    "path_checkpoint = \"model_checkpoint.h5\"\n",
    "es_callback = keras.callbacks.EarlyStopping(monitor=\"val_loss\", min_delta=0, patience=5)\n",
    "\n",
    "modelckpt_callback = keras.callbacks.ModelCheckpoint(\n",
    "    monitor=\"val_loss\",\n",
    "    filepath=path_checkpoint,\n",
    "    verbose=1,\n",
    "    save_weights_only=True,\n",
    "    save_best_only=True,\n",
    ")\n"
   ],
   "outputs": [],
   "metadata": {}
  },
  {
   "cell_type": "code",
   "execution_count": null,
   "source": [
    "# training dataset, and train each file at the time\n",
    "\n",
    "for file in train_files:\n",
    "    df = pd.read_csv(fit_path+'/'+file, index_col='timestamp')[[\"heart_rate\", \"cadence\",\"enhanced_speed\",\"enhanced_altitude\"]]\n",
    "    df = (df - df_mean) / df_std\n",
    "    print(file)\n",
    "    start = n_X + n_y\n",
    "    end = n_X + len(df.index)\n",
    "    \n",
    "    x = df[[\"heart_rate\", \"cadence\",\"enhanced_speed\",\"enhanced_altitude\"]].values\n",
    "    y = df.iloc[n_X:end][[\"heart_rate\"]]\n",
    "    \n",
    "    dataset_train = keras.preprocessing.timeseries_dataset_from_array(\n",
    "        x,\n",
    "        y,\n",
    "        sequence_length=sequence_length,\n",
    "        sampling_rate=step,\n",
    "        batch_size=batch_size,\n",
    "    )\n",
    "    \n",
    "    history = model.fit(\n",
    "        dataset_train,\n",
    "        epochs=epochs,\n",
    "        validation_data=dataset_val,\n",
    "        callbacks=[es_callback, modelckpt_callback],\n",
    "        verbose=0\n",
    "    )\n",
    "\n",
    "    \n"
   ],
   "outputs": [],
   "metadata": {}
  },
  {
   "cell_type": "code",
   "execution_count": 8,
   "source": [
    "def visualize_loss(history, title):\n",
    "    loss = history.history[\"loss\"]\n",
    "    val_loss = history.history[\"val_loss\"]\n",
    "    epochs = range(len(loss))\n",
    "    plt.figure()\n",
    "    plt.plot(epochs, loss, \"b\", label=\"Training loss\")\n",
    "    plt.plot(epochs, val_loss, \"r\", label=\"Validation loss\")\n",
    "    plt.title(title)\n",
    "    plt.xlabel(\"Epochs\")\n",
    "    plt.ylabel(\"Loss\")\n",
    "    plt.legend()\n",
    "    plt.show()\n",
    "\n",
    "\n",
    "visualize_loss(history, \"Training and Validation Loss\")"
   ],
   "outputs": [
    {
     "output_type": "display_data",
     "data": {
      "image/png": "[encoded data removed]",
      "text/plain": [
       "<Figure size 432x288 with 1 Axes>"
      ]
     },
     "metadata": {
      "needs_background": "light"
     }
    }
   ],
   "metadata": {}
  }
 ],
 "metadata": {
  "orig_nbformat": 4,
  "language_info": {
   "name": "python",
   "version": "3.9.6",
   "mimetype": "text/x-python",
   "codemirror_mode": {
    "name": "ipython",
    "version": 3
   },
   "pygments_lexer": "ipython3",
   "nbconvert_exporter": "python",
   "file_extension": ".py"
  },
  "kernelspec": {
   "name": "python3",
   "display_name": "Python 3.9.6 64-bit ('hrpredict': conda)"
  },
  "interpreter": {
   "hash": "b77292dc63b48aca88a1593f58a471620914a6081d352eacb6540144f7e5fab5"
  }
 },
 "nbformat": 4,
 "nbformat_minor": 2
}