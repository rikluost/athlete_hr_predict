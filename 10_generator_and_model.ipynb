{
 "cells": [
  {
   "cell_type": "code",
   "execution_count": null,
   "source": [
    "dire = \"/home/riku/projects/athlet_hr_predict/fit_files\"\n",
    "import os, glob \n",
    "import pandas as pd\n",
    "import numpy as np\n",
    "import tensorflow as tf\n",
    "from tensorflow import keras\n",
    " \n",
    "# Gt new files\n",
    "\n",
    "#import parse_fit\n",
    "#parse_fit.convert_run_files_to_csv()\n",
    " \n",
    "def last_time_step_mse(Y_true, Y_pred):\n",
    "  return keras.metrics.mean_squared_error(Y_true[:, -1], Y_pred[:, -1])\n",
    "\n",
    "model = keras.Sequential([\n",
    "    keras.layers.LSTM(240, return_sequences=True, input_shape=(60,4)),\n",
    "    keras.layers.LSTM(60, return_sequences=True),\n",
    "    keras.layers.TimeDistributed(keras.layers.Dense(30))   \n",
    "])\n",
    "\n",
    "optimizer = keras.optimizers.Adam(learning_rate=0.01)\n",
    "\n",
    "model.compile(loss=\"mse\", optimizer=optimizer, metrics=[last_time_step_mse])"
   ],
   "outputs": [],
   "metadata": {}
  },
  {
   "cell_type": "code",
   "execution_count": null,
   "source": [
    "os.chdir(dire)\n",
    "files = glob.glob(\"*.csv\")[0:1]\n",
    "n_X = 60\n",
    "n_y = 30\n",
    "for file in files:\n",
    "    df = pd.read_csv(dire+'/'+file, index_col='timestamp')[[\"heart_rate\", \"cadence\",\"enhanced_speed\",\"enhanced_altitude\"]]\n",
    "    for n in range(0, len(df.index)-n_y-n_X):\n",
    "        X_train=df[n:n+n_X]\n",
    "        y_train=df[n+n_X:n+n_X+n_y][\"heart_rate\"]\n",
    "     "
   ],
   "outputs": [],
   "metadata": {}
  },
  {
   "cell_type": "code",
   "execution_count": null,
   "source": [],
   "outputs": [],
   "metadata": {}
  },
  {
   "cell_type": "code",
   "execution_count": null,
   "source": [
    "model.fit(X_train, y_train, epochs = 60, batch_size = 1)  "
   ],
   "outputs": [],
   "metadata": {}
  },
  {
   "cell_type": "code",
   "execution_count": null,
   "source": [
    "y_train.shape"
   ],
   "outputs": [],
   "metadata": {}
  },
  {
   "cell_type": "code",
   "execution_count": null,
   "source": [
    "y_train"
   ],
   "outputs": [],
   "metadata": {}
  },
  {
   "cell_type": "code",
   "execution_count": null,
   "source": [],
   "outputs": [],
   "metadata": {}
  }
 ],
 "metadata": {
  "orig_nbformat": 4,
  "language_info": {
   "name": "python",
   "version": "3.9.6",
   "mimetype": "text/x-python",
   "codemirror_mode": {
    "name": "ipython",
    "version": 3
   },
   "pygments_lexer": "ipython3",
   "nbconvert_exporter": "python",
   "file_extension": ".py"
  },
  "kernelspec": {
   "name": "python3",
   "display_name": "Python 3.9.6 64-bit ('hrpredict': conda)"
  },
  "interpreter": {
   "hash": "b77292dc63b48aca88a1593f58a471620914a6081d352eacb6540144f7e5fab5"
  }
 },
 "nbformat": 4,
 "nbformat_minor": 2
}